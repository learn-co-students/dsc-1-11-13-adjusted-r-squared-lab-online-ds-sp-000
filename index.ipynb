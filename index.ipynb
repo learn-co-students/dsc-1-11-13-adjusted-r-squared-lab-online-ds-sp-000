{
 "cells": [
  {
   "cell_type": "markdown",
   "metadata": {},
   "source": [
    "## Model Fit in Linear Regression - Lab"
   ]
  },
  {
   "cell_type": "markdown",
   "metadata": {},
   "source": [
    "## Introduction\n",
    "In this lab, you'll learn how to evaluate your model results, and you'll learn methods to select the appropriate features using stepwise selection."
   ]
  },
  {
   "cell_type": "markdown",
   "metadata": {},
   "source": [
    "## Objectives\n",
    "You will be able to:\n",
    "* Analyze the results of regression and R-squared and adjusted-R-squared \n",
    "* Understand and apply forward and backward predictor selection"
   ]
  },
  {
   "cell_type": "markdown",
   "metadata": {},
   "source": [
    "## The Boston Housing Data once more"
   ]
  },
  {
   "cell_type": "markdown",
   "metadata": {},
   "source": [
    "We pre-processed the Boston Housing Data the same way we did before:\n",
    "\n",
    "- We dropped \"ZN\" and \"NOX\" completely\n",
    "- We categorized \"RAD\" in 3 bins and \"TAX\" in 4 bins\n",
    "- We used min-max-scaling on \"B\", \"CRIM\" and \"DIS\" (and logtransformed all of them first, except \"B\")\n",
    "- We used standardization on \"AGE\", \"INDUS\", \"LSTAT\" and \"PTRATIO\" (and logtransformed all of them first, except for \"AGE\") "
   ]
  },
  {
   "cell_type": "code",
   "execution_count": 1,
   "metadata": {},
   "outputs": [],
   "source": [
    "import pandas as pd\n",
    "import numpy as np\n",
    "from sklearn.datasets import load_boston\n",
    "boston = load_boston()\n",
    "\n",
    "boston_features = pd.DataFrame(boston.data, columns = boston.feature_names)\n",
    "boston_features = boston_features.drop([\"NOX\",\"ZN\"],axis=1)\n",
    "\n",
    "# first, create bins for based on the values observed. 3 values will result in 2 bins\n",
    "bins = [0,6,  24]\n",
    "bins_rad = pd.cut(boston_features['RAD'], bins)\n",
    "bins_rad = bins_rad.cat.as_unordered()\n",
    "\n",
    "# first, create bins for based on the values observed. 4 values will result in 3 bins\n",
    "bins = [0, 270, 360, 712]\n",
    "bins_tax = pd.cut(boston_features['TAX'], bins)\n",
    "bins_tax = bins_tax.cat.as_unordered()\n",
    "\n",
    "tax_dummy = pd.get_dummies(bins_tax, prefix=\"TAX\")\n",
    "rad_dummy = pd.get_dummies(bins_rad, prefix=\"RAD\")\n",
    "boston_features = boston_features.drop([\"RAD\",\"TAX\"], axis=1)\n",
    "boston_features = pd.concat([boston_features, rad_dummy, tax_dummy], axis=1)\n",
    "\n",
    "age = boston_features[\"AGE\"]\n",
    "b = boston_features[\"B\"]\n",
    "logcrim = np.log(boston_features[\"CRIM\"])\n",
    "logdis = np.log(boston_features[\"DIS\"])\n",
    "logindus = np.log(boston_features[\"INDUS\"])\n",
    "loglstat = np.log(boston_features[\"LSTAT\"])\n",
    "logptratio = np.log(boston_features[\"PTRATIO\"])\n",
    "\n",
    "# minmax scaling\n",
    "boston_features[\"B\"] = (b-min(b))/(max(b)-min(b))\n",
    "boston_features[\"CRIM\"] = (logcrim-min(logcrim))/(max(logcrim)-min(logcrim))\n",
    "boston_features[\"DIS\"] = (logdis-min(logdis))/(max(logdis)-min(logdis))\n",
    "\n",
    "#standardization\n",
    "boston_features[\"AGE\"] = (age-np.mean(age))/np.sqrt(np.var(age))\n",
    "boston_features[\"INDUS\"] = (logindus-np.mean(logindus))/np.sqrt(np.var(logindus))\n",
    "boston_features[\"LSTAT\"] = (loglstat-np.mean(loglstat))/np.sqrt(np.var(loglstat))\n",
    "boston_features[\"PTRATIO\"] = (logptratio-np.mean(logptratio))/(np.sqrt(np.var(logptratio)))"
   ]
  },
  {
   "cell_type": "markdown",
   "metadata": {},
   "source": [
    "## Perform stepwise selection"
   ]
  },
  {
   "cell_type": "markdown",
   "metadata": {},
   "source": [
    "The code for stepwise selection is copied below."
   ]
  },
  {
   "cell_type": "code",
   "execution_count": 2,
   "metadata": {},
   "outputs": [],
   "source": [
    "import statsmodels.api as sm\n",
    "\n",
    "def stepwise_selection(X, y, \n",
    "                       initial_list=[], \n",
    "                       threshold_in=0.01, \n",
    "                       threshold_out = 0.05, \n",
    "                       verbose=True):\n",
    "    \"\"\" Perform a forward-backward feature selection \n",
    "    based on p-value from statsmodels.api.OLS\n",
    "    Arguments:\n",
    "        X - pandas.DataFrame with candidate features\n",
    "        y - list-like with the target\n",
    "        initial_list - list of features to start with (column names of X)\n",
    "        threshold_in - include a feature if its p-value < threshold_in\n",
    "        threshold_out - exclude a feature if its p-value > threshold_out\n",
    "        verbose - whether to print the sequence of inclusions and exclusions\n",
    "    Returns: list of selected features \n",
    "    Always set threshold_in < threshold_out to avoid infinite looping.\n",
    "    See https://en.wikipedia.org/wiki/Stepwise_regression for the details\n",
    "    \"\"\"\n",
    "    included = list(initial_list)\n",
    "    while True:\n",
    "        changed=False\n",
    "        # forward step\n",
    "        excluded = list(set(X.columns)-set(included))\n",
    "        new_pval = pd.Series(index=excluded)\n",
    "        for new_column in excluded:\n",
    "            model = sm.OLS(y, sm.add_constant(pd.DataFrame(X[included+[new_column]]))).fit()\n",
    "            new_pval[new_column] = model.pvalues[new_column]\n",
    "        best_pval = new_pval.min()\n",
    "        if best_pval < threshold_in:\n",
    "            best_feature = new_pval.idxmin()\n",
    "            included.append(best_feature)\n",
    "            changed=True\n",
    "            if verbose:\n",
    "                print('Add  {:30} with p-value {:.6}'.format(best_feature, best_pval))\n",
    "\n",
    "        # backward step\n",
    "        model = sm.OLS(y, sm.add_constant(pd.DataFrame(X[included]))).fit()\n",
    "        # use all coefs except intercept\n",
    "        pvalues = model.pvalues.iloc[1:]\n",
    "        worst_pval = pvalues.max() # null if pvalues is empty\n",
    "        if worst_pval > threshold_out:\n",
    "            changed=True\n",
    "            worst_feature = pvalues.argmax()\n",
    "            included.remove(worst_feature)\n",
    "            if verbose:\n",
    "                print('Drop {:30} with p-value {:.6}'.format(worst_feature, worst_pval))\n",
    "        if not changed:\n",
    "            break\n",
    "    return included"
   ]
  },
  {
   "cell_type": "code",
   "execution_count": 5,
   "metadata": {},
   "outputs": [
    {
     "name": "stdout",
     "output_type": "stream",
     "text": [
      "Add  LSTAT                          with p-value 9.27989e-122\n",
      "Add  RM                             with p-value 1.98621e-16\n",
      "Add  PTRATIO                        with p-value 2.5977e-12\n",
      "Add  DIS                            with p-value 2.85496e-09\n",
      "Add  B                              with p-value 2.77572e-06\n",
      "Add  TAX_(0, 270]                   with p-value 0.000855799\n",
      "Add  CHAS                           with p-value 0.00151282\n",
      "Add  INDUS                          with p-value 0.00588575\n",
      "Resulting Features: \n",
      "['LSTAT', 'RM', 'PTRATIO', 'DIS', 'B', 'TAX_(0, 270]', 'CHAS', 'INDUS']\n"
     ]
    }
   ],
   "source": [
    "result = stepwise_selection(boston_features, boston.target, verbose=True)\n",
    "print('Resulting Features: ')\n",
    "print(result)"
   ]
  },
  {
   "cell_type": "code",
   "execution_count": null,
   "metadata": {},
   "outputs": [],
   "source": []
  },
  {
   "cell_type": "markdown",
   "metadata": {},
   "source": [
    "### Build the final model again in Statsmodels"
   ]
  },
  {
   "cell_type": "code",
   "execution_count": 8,
   "metadata": {},
   "outputs": [
    {
     "data": {
      "text/html": [
       "<table class=\"simpletable\">\n",
       "<caption>OLS Regression Results</caption>\n",
       "<tr>\n",
       "  <th>Dep. Variable:</th>            <td>y</td>        <th>  R-squared:         </th> <td>   0.776</td> \n",
       "</tr>\n",
       "<tr>\n",
       "  <th>Model:</th>                   <td>OLS</td>       <th>  Adj. R-squared:    </th> <td>   0.773</td> \n",
       "</tr>\n",
       "<tr>\n",
       "  <th>Method:</th>             <td>Least Squares</td>  <th>  F-statistic:       </th> <td>   215.7</td> \n",
       "</tr>\n",
       "<tr>\n",
       "  <th>Date:</th>             <td>Tue, 28 May 2019</td> <th>  Prob (F-statistic):</th> <td>2.69e-156</td>\n",
       "</tr>\n",
       "<tr>\n",
       "  <th>Time:</th>                 <td>15:08:38</td>     <th>  Log-Likelihood:    </th> <td> -1461.3</td> \n",
       "</tr>\n",
       "<tr>\n",
       "  <th>No. Observations:</th>      <td>   506</td>      <th>  AIC:               </th> <td>   2941.</td> \n",
       "</tr>\n",
       "<tr>\n",
       "  <th>Df Residuals:</th>          <td>   497</td>      <th>  BIC:               </th> <td>   2979.</td> \n",
       "</tr>\n",
       "<tr>\n",
       "  <th>Df Model:</th>              <td>     8</td>      <th>                     </th>     <td> </td>    \n",
       "</tr>\n",
       "<tr>\n",
       "  <th>Covariance Type:</th>      <td>nonrobust</td>    <th>                     </th>     <td> </td>    \n",
       "</tr>\n",
       "</table>\n",
       "<table class=\"simpletable\">\n",
       "<tr>\n",
       "        <td></td>          <th>coef</th>     <th>std err</th>      <th>t</th>      <th>P>|t|</th>  <th>[0.025</th>    <th>0.975]</th>  \n",
       "</tr>\n",
       "<tr>\n",
       "  <th>const</th>        <td>    4.8980</td> <td>    2.813</td> <td>    1.742</td> <td> 0.082</td> <td>   -0.628</td> <td>   10.424</td>\n",
       "</tr>\n",
       "<tr>\n",
       "  <th>LSTAT</th>        <td>   -5.5932</td> <td>    0.319</td> <td>  -17.538</td> <td> 0.000</td> <td>   -6.220</td> <td>   -4.967</td>\n",
       "</tr>\n",
       "<tr>\n",
       "  <th>RM</th>           <td>    2.8294</td> <td>    0.386</td> <td>    7.333</td> <td> 0.000</td> <td>    2.071</td> <td>    3.587</td>\n",
       "</tr>\n",
       "<tr>\n",
       "  <th>PTRATIO</th>      <td>   -1.3265</td> <td>    0.226</td> <td>   -5.878</td> <td> 0.000</td> <td>   -1.770</td> <td>   -0.883</td>\n",
       "</tr>\n",
       "<tr>\n",
       "  <th>DIS</th>          <td>   -9.1984</td> <td>    1.333</td> <td>   -6.898</td> <td> 0.000</td> <td>  -11.818</td> <td>   -6.579</td>\n",
       "</tr>\n",
       "<tr>\n",
       "  <th>B</th>            <td>    3.9052</td> <td>    0.931</td> <td>    4.195</td> <td> 0.000</td> <td>    2.076</td> <td>    5.734</td>\n",
       "</tr>\n",
       "<tr>\n",
       "  <th>TAX_(0, 270]</th> <td>    1.4418</td> <td>    0.552</td> <td>    2.614</td> <td> 0.009</td> <td>    0.358</td> <td>    2.526</td>\n",
       "</tr>\n",
       "<tr>\n",
       "  <th>CHAS</th>         <td>    2.7988</td> <td>    0.791</td> <td>    3.539</td> <td> 0.000</td> <td>    1.245</td> <td>    4.353</td>\n",
       "</tr>\n",
       "<tr>\n",
       "  <th>INDUS</th>        <td>   -0.9574</td> <td>    0.346</td> <td>   -2.766</td> <td> 0.006</td> <td>   -1.637</td> <td>   -0.277</td>\n",
       "</tr>\n",
       "</table>\n",
       "<table class=\"simpletable\">\n",
       "<tr>\n",
       "  <th>Omnibus:</th>       <td>114.307</td> <th>  Durbin-Watson:     </th> <td>   1.088</td> \n",
       "</tr>\n",
       "<tr>\n",
       "  <th>Prob(Omnibus):</th> <td> 0.000</td>  <th>  Jarque-Bera (JB):  </th> <td> 482.579</td> \n",
       "</tr>\n",
       "<tr>\n",
       "  <th>Skew:</th>          <td> 0.945</td>  <th>  Prob(JB):          </th> <td>1.62e-105</td>\n",
       "</tr>\n",
       "<tr>\n",
       "  <th>Kurtosis:</th>      <td> 7.395</td>  <th>  Cond. No.          </th> <td>    96.8</td> \n",
       "</tr>\n",
       "</table><br/><br/>Warnings:<br/>[1] Standard Errors assume that the covariance matrix of the errors is correctly specified."
      ],
      "text/plain": [
       "<class 'statsmodels.iolib.summary.Summary'>\n",
       "\"\"\"\n",
       "                            OLS Regression Results                            \n",
       "==============================================================================\n",
       "Dep. Variable:                      y   R-squared:                       0.776\n",
       "Model:                            OLS   Adj. R-squared:                  0.773\n",
       "Method:                 Least Squares   F-statistic:                     215.7\n",
       "Date:                Tue, 28 May 2019   Prob (F-statistic):          2.69e-156\n",
       "Time:                        15:08:38   Log-Likelihood:                -1461.3\n",
       "No. Observations:                 506   AIC:                             2941.\n",
       "Df Residuals:                     497   BIC:                             2979.\n",
       "Df Model:                           8                                         \n",
       "Covariance Type:            nonrobust                                         \n",
       "================================================================================\n",
       "                   coef    std err          t      P>|t|      [0.025      0.975]\n",
       "--------------------------------------------------------------------------------\n",
       "const            4.8980      2.813      1.742      0.082      -0.628      10.424\n",
       "LSTAT           -5.5932      0.319    -17.538      0.000      -6.220      -4.967\n",
       "RM               2.8294      0.386      7.333      0.000       2.071       3.587\n",
       "PTRATIO         -1.3265      0.226     -5.878      0.000      -1.770      -0.883\n",
       "DIS             -9.1984      1.333     -6.898      0.000     -11.818      -6.579\n",
       "B                3.9052      0.931      4.195      0.000       2.076       5.734\n",
       "TAX_(0, 270]     1.4418      0.552      2.614      0.009       0.358       2.526\n",
       "CHAS             2.7988      0.791      3.539      0.000       1.245       4.353\n",
       "INDUS           -0.9574      0.346     -2.766      0.006      -1.637      -0.277\n",
       "==============================================================================\n",
       "Omnibus:                      114.307   Durbin-Watson:                   1.088\n",
       "Prob(Omnibus):                  0.000   Jarque-Bera (JB):              482.579\n",
       "Skew:                           0.945   Prob(JB):                    1.62e-105\n",
       "Kurtosis:                       7.395   Cond. No.                         96.8\n",
       "==============================================================================\n",
       "\n",
       "Warnings:\n",
       "[1] Standard Errors assume that the covariance matrix of the errors is correctly specified.\n",
       "\"\"\""
      ]
     },
     "execution_count": 8,
     "metadata": {},
     "output_type": "execute_result"
    }
   ],
   "source": [
    "import statsmodels.api as sm\n",
    "X_fin = boston_features[result]\n",
    "X_int = sm.add_constant(X_fin)\n",
    "model = sm.OLS(boston.target,X_int).fit()\n",
    "model.summary()"
   ]
  },
  {
   "cell_type": "markdown",
   "metadata": {},
   "source": [
    "Where our stepwise procedure mentions that \"CHAS\" was added with a p-value of 0.00151282, but our statsmodels output returns a p-value of 0.000. What is the intuition behind this?"
   ]
  },
  {
   "cell_type": "markdown",
   "metadata": {},
   "source": [
    "## Use Feature ranking with recursive feature elimination"
   ]
  },
  {
   "cell_type": "markdown",
   "metadata": {},
   "source": [
    "Use feature ranking to select the 5 most important features"
   ]
  },
  {
   "cell_type": "code",
   "execution_count": 9,
   "metadata": {},
   "outputs": [],
   "source": [
    "from sklearn.feature_selection import RFE\n",
    "from sklearn.linear_model import LinearRegression\n",
    "\n",
    "linreg = LinearRegression()\n",
    "selector = RFE(linreg, n_features_to_select = 5)\n",
    "selector = selector.fit(boston_features, boston.target)"
   ]
  },
  {
   "cell_type": "code",
   "execution_count": 16,
   "metadata": {},
   "outputs": [
    {
     "data": {
      "text/plain": [
       "array(['', '', 'CHAS', 'RM', '', 'DIS', '', 'B', 'LSTAT', '', '', '', '',\n",
       "       ''], dtype=object)"
      ]
     },
     "execution_count": 16,
     "metadata": {},
     "output_type": "execute_result"
    }
   ],
   "source": [
    "selector.support_*np.array(boston_features.columns)"
   ]
  },
  {
   "cell_type": "markdown",
   "metadata": {},
   "source": [
    "Fit the linear regression model again using the 5 columns selected"
   ]
  },
  {
   "cell_type": "code",
   "execution_count": 29,
   "metadata": {},
   "outputs": [],
   "source": [
    "boston_features_sel = boston_features.filter(items=['CHAS','RM','DIS','B','STAT'])"
   ]
  },
  {
   "cell_type": "code",
   "execution_count": 32,
   "metadata": {},
   "outputs": [
    {
     "data": {
      "text/plain": [
       "LinearRegression(copy_X=True, fit_intercept=True, n_jobs=None,\n",
       "         normalize=False)"
      ]
     },
     "execution_count": 32,
     "metadata": {},
     "output_type": "execute_result"
    }
   ],
   "source": [
    "\n",
    "\n",
    "linreg.fit(boston_features_sel,boston.target)"
   ]
  },
  {
   "cell_type": "markdown",
   "metadata": {},
   "source": [
    "Now, predict $\\hat y$ using your model. you can use `.predict()` in scikit-learn"
   ]
  },
  {
   "cell_type": "code",
   "execution_count": 37,
   "metadata": {},
   "outputs": [
    {
     "data": {
      "text/plain": [
       "array([25.84042729, 24.76534035, 31.07085278, 29.76569055, 31.06489028,\n",
       "       24.99765958, 21.43547611, 22.87964384, 18.14059163, 21.35483645,\n",
       "       24.56819685, 21.56476623, 20.26786204, 20.75351423, 21.54264717,\n",
       "       19.711361  , 20.35831306, 20.75590424, 13.94115734, 18.52210772,\n",
       "       16.88177154, 20.6119967 , 22.18349559, 19.40728857, 20.4112113 ,\n",
       "       15.64229781, 19.15476236, 19.4606886 , 25.06167346, 26.33103468,\n",
       "       17.82720609, 21.19370108, 16.85439036, 17.57210747, 18.36755962,\n",
       "       20.24730403, 19.04419249, 19.72634986, 20.5944101 , 26.28612226,\n",
       "       29.87836915, 27.58339381, 22.50433143, 23.10746829, 21.80340701,\n",
       "       18.60614674, 19.47704943, 21.54667162, 16.39145344, 18.13159547,\n",
       "       21.24880957, 22.48561977, 25.86817654, 21.57228154, 20.73006434,\n",
       "       32.2954822 , 25.1261744 , 28.55257586, 22.81344665, 20.99656608,\n",
       "       19.4441783 , 20.87825067, 25.47223144, 28.1145558 , 31.08513136,\n",
       "       23.98408525, 19.77193089, 20.49920855, 18.13661757, 20.57347029,\n",
       "       24.50223686, 20.52972452, 21.71734708, 22.91317322, 23.3093292 ,\n",
       "       23.21652037, 22.82456853, 21.97249027, 22.95499044, 20.0572803 ,\n",
       "       27.4202097 , 26.48701804, 23.86123236, 22.58881052, 24.45483868,\n",
       "       26.28679802, 21.21779051, 21.90239544, 29.26104152, 29.84260442,\n",
       "       24.10157375, 24.03207343, 24.56295954, 22.65847697, 22.97417644,\n",
       "       25.20324268, 22.10185284, 38.17776361, 36.01621887, 32.7094996 ,\n",
       "       26.63760361, 27.13908551, 16.57114857, 21.66496091, 21.74940619,\n",
       "       18.98060449, 18.94496943, 21.15574892, 24.38346985, 22.29069156,\n",
       "       22.15380867, 26.51532766, 19.64236332, 21.27324911, 22.31070609,\n",
       "       18.68379882, 21.97126957, 20.70769644, 18.0789108 , 18.21570875,\n",
       "       19.10494768, 19.93691408, 19.52938458, 18.39563449, 18.82846932,\n",
       "       19.84496202, 15.9991266 , 17.43249837, 23.73599507, 17.18452427,\n",
       "       24.0921685 , 23.10570977, 23.26544249, 18.79174716, 15.3355958 ,\n",
       "       23.04969749, 19.30851825, 23.88715631, 18.72776459, 21.29998882,\n",
       "       21.25439354, 11.65734001, 18.81759746, 15.39591835, 10.6117927 ,\n",
       "       15.86706977, 11.65413154, 10.77718163, 12.21809974, 15.5404903 ,\n",
       "       20.47669321, 13.73860268, 14.54577495, 14.50861943, 23.48648554,\n",
       "       18.39395505,  6.99417421, 27.30348787, 19.67021485, 23.62992591,\n",
       "       24.93606642, 32.17883401, 39.22138364, 44.05717591, 19.18364487,\n",
       "       17.67403764, 35.78835365, 15.58056036, 20.69782294, 22.22218661,\n",
       "       17.0302003 , 18.32098108, 16.93938427, 23.99650062, 19.30364018,\n",
       "       25.16835939, 20.95480123, 23.40257041, 27.7255743 , 28.82492427,\n",
       "       35.33329464, 21.73011434, 30.17607377, 25.33994228, 17.2287872 ,\n",
       "       21.84083896, 35.99022675, 27.42064627, 25.4842834 , 31.07033017,\n",
       "       29.06138119, 27.55881685, 31.25271481, 28.10736129, 26.08811195,\n",
       "       37.02261529, 32.44376516, 29.9708574 , 32.22834661, 29.88189424,\n",
       "       30.93608452, 22.78268782, 34.94483398, 36.69663753, 38.16178588,\n",
       "       20.07282524, 23.77855258, 19.10810307, 25.28650867, 19.51122218,\n",
       "       24.58749328, 19.91451337, 23.18803222, 23.87444623, 14.86910483,\n",
       "       22.43554239, 23.73168637, 26.11090813, 24.27018811, 27.90012518,\n",
       "       32.51576331, 26.07526755, 32.03109972, 25.95417066, 39.35054851,\n",
       "       43.12509618, 37.62706105, 29.93613376, 34.49229202, 25.06026321,\n",
       "       20.32649521, 32.25967742, 40.27627037, 39.30981786, 30.18666598,\n",
       "       21.16358769, 30.17223793, 32.25802114, 25.1142566 , 26.26008879,\n",
       "       28.892072  , 22.25247513, 24.07463613, 24.41216439, 17.79818846,\n",
       "       18.27592982, 22.52576454, 23.19559726, 24.86476624, 27.68281188,\n",
       "       25.74362668, 24.89777936, 29.65352549, 40.80163541, 22.73631698,\n",
       "       20.84545163, 33.44510912, 42.5999813 , 31.02975573, 27.17963848,\n",
       "       30.27672185, 32.84525199, 40.23762542, 31.31161569, 30.09103494,\n",
       "       16.44137431, 28.50692223, 39.40166467, 32.79524026, 24.22067376,\n",
       "       19.7203548 , 23.1230348 , 25.43902681, 39.15802389, 31.40841784,\n",
       "       28.22364565, 35.67452045, 32.09407808, 25.07513516, 27.82796527,\n",
       "       36.20096335, 29.30012156, 38.65762681, 41.53801234, 30.72764581,\n",
       "       25.41011496, 22.5793236 , 23.41776182, 24.30541264, 25.82806213,\n",
       "       28.48269151, 30.88604798, 26.54828265, 22.41642935, 21.42828975,\n",
       "       27.1187558 , 25.94668221, 19.74726725, 23.98134781, 29.88541916,\n",
       "       28.89893338, 26.26533964, 25.19457238, 29.42736086, 31.28417065,\n",
       "       25.88971569, 32.61023034, 27.85799335, 26.11174385, 20.47079706,\n",
       "       10.83712007, 21.5637595 , 20.79929154, 22.92378071, 25.60581074,\n",
       "       18.50425505, 20.13965427, 19.18394273, 24.02412276, 21.93237691,\n",
       "       24.7080383 , 24.28933508, 21.52711333, 18.60773576, 24.65901339,\n",
       "       24.87158775, 23.9480761 , 22.03041537, 19.86034262, 23.5903681 ,\n",
       "       21.98852671, 19.03320359, 21.03450318, 24.0129352 , 23.95566267,\n",
       "       21.75558346, 20.20003365, 20.44856915, 21.68171855, 21.07926808,\n",
       "       20.93690898, 31.96785625, 25.86115997, 27.22636722, 28.64741086,\n",
       "       21.62991627, 20.18174465, 26.05727228, 26.99497776, 29.57373845,\n",
       "       25.97361714, 26.34462988, 21.01322448, 28.03962707, 18.93357739,\n",
       "       21.06643809, 25.68052218, 27.70472292, 25.64512306, 21.28408808,\n",
       "       23.31624389, 21.4409489 , 14.58333317, 21.57638616, 46.54020953,\n",
       "       -1.38291877,  9.5721356 , -3.98858238, 10.67709206, 29.0763182 ,\n",
       "       32.11064234, 20.75430225, 21.4854796 , 10.48623045,  4.01940347,\n",
       "       30.76873436, 24.46398034, 26.45703025, 23.01278093, 21.62641111,\n",
       "       27.96068442, 24.49573725, 16.08991219, 15.92237749,  3.68778516,\n",
       "       13.80759925,  8.60517944, 11.55722629, 10.05920438, 14.96594507,\n",
       "       17.73476674, 20.33161785, 12.02797748, 21.72991572, 19.16182842,\n",
       "       23.90523071, 23.43234764, 17.80710825, 15.32953424, 17.34704236,\n",
       "       19.87246813, 22.84337196, 22.92745982, 14.60632436, 14.53778428,\n",
       "       16.93645713,  3.45373643, 14.99521957, 14.81175282, 22.09489816,\n",
       "        8.87761637, 17.23599147,  0.12201127,  8.6903646 ,  0.62946317,\n",
       "       15.39406465, 18.17027996,  8.08218219, 11.13529597, 19.1158153 ,\n",
       "       21.82465106, 18.47032687, 14.87208191, 12.16880202,  7.71171494,\n",
       "       10.48931674, 10.42972422, 13.27700305, 15.01023615, 15.77822892,\n",
       "       16.07199349, 20.10428284, 17.12224926, 17.32158573, 15.37672164,\n",
       "       19.06169509, 15.72228736, 12.67291482, 12.1522871 , 17.00610672,\n",
       "       18.51137125, 23.42267303, 22.04459642, 24.05432558, 15.40829721,\n",
       "       16.05039882, 21.34151817, 22.25159441, 21.92038714, 21.72371126,\n",
       "       17.68218478, 24.95761432, 22.64138549, 31.64903875, 17.72958707,\n",
       "       17.00563584, 11.55520063, 11.14385155, 20.29397314, 21.2522431 ,\n",
       "       23.18243674, 23.53571629, 23.23536743, 24.83366235, 22.41976682,\n",
       "       17.27223365, 11.7335576 , 19.03714325, 19.39079458, 18.21291432,\n",
       "       22.09383361, 22.6011612 , 24.22381192, 28.19909641, 14.64725356,\n",
       "       19.5660122 , 24.42971988, 13.38627181, 21.48504308, 21.81797037,\n",
       "       22.85568871, 26.99264555, 29.67292572, 18.94431905, 19.24826807,\n",
       "       23.4234684 , 21.72669515, 19.74549186, 15.51860409, 13.98604362,\n",
       "       10.7586054 , 19.86383568, 20.15216557, 17.97471326, 19.80863335,\n",
       "       17.76112732, 15.49823317, 18.91786923, 20.60005094, 16.80187877,\n",
       "       20.7071417 , 25.32684877, 21.38864545, 28.49734943, 27.00243751,\n",
       "       20.73526516])"
      ]
     },
     "execution_count": 37,
     "metadata": {},
     "output_type": "execute_result"
    }
   ],
   "source": [
    "yhat = linreg.predict(boston_features_sel)\n",
    "yhat"
   ]
  },
  {
   "cell_type": "markdown",
   "metadata": {},
   "source": [
    "Now, using the formulas of R-squared and adjusted-R-squared below, and your Python/numpy knowledge, compute them and contrast them with the R-squared and adjusted-R-squared in your statsmodels output using stepwise selection. Which of the two models would you prefer?"
   ]
  },
  {
   "cell_type": "markdown",
   "metadata": {},
   "source": [
    "$SS_{residual} = \\sum (y - \\hat{y})^2 $\n",
    "\n",
    "$SS_{total} = \\sum (y - \\bar{y})^2 $\n",
    "\n",
    "$R^2 = 1- \\dfrac{SS_{residual}}{SS_{total}}$\n",
    "\n",
    "$R^2_{adj}= 1-(1-R^2)\\dfrac{n-1}{n-p-1}$"
   ]
  },
  {
   "cell_type": "code",
   "execution_count": 35,
   "metadata": {},
   "outputs": [],
   "source": [
    "SS_Residual = np.sum((boston.target-yhat)**2)\n",
    "SS_Total = np.sum((boston.target-np.mean(boston.target))**2)\n",
    "r_squared = 1 - (float(SS_Residual))/SS_Total\n",
    "adjusted_r_squared = 1 - (1-r_squared)*(len(boston.target)-1)/(len(boston.target)-boston_features_sel.shape[1]-1)\n"
   ]
  },
  {
   "cell_type": "raw",
   "metadata": {},
   "source": [
    "r_squared"
   ]
  },
  {
   "cell_type": "code",
   "execution_count": 36,
   "metadata": {},
   "outputs": [
    {
     "data": {
      "text/plain": [
       "0.5548512883000711"
      ]
     },
     "execution_count": 36,
     "metadata": {},
     "output_type": "execute_result"
    }
   ],
   "source": [
    "adjusted_r_squared"
   ]
  },
  {
   "cell_type": "markdown",
   "metadata": {},
   "source": [
    "## Level up - Optional"
   ]
  },
  {
   "cell_type": "markdown",
   "metadata": {},
   "source": [
    "- Perform variable selection using forward selection, using this resource: https://planspace.org/20150423-forward_selection_with_statsmodels/. Note that this time features are added based on the adjusted-R-squared!\n",
    "- Tweak the code in the `stepwise_selection()`-function written above to just perform forward selection based on the p-value."
   ]
  },
  {
   "cell_type": "markdown",
   "metadata": {},
   "source": [
    "## Summary\n",
    "Great! You now performed your own feature selection methods!"
   ]
  }
 ],
 "metadata": {
  "kernelspec": {
   "display_name": "Python 3",
   "language": "python",
   "name": "python3"
  },
  "language_info": {
   "codemirror_mode": {
    "name": "ipython",
    "version": 3
   },
   "file_extension": ".py",
   "mimetype": "text/x-python",
   "name": "python",
   "nbconvert_exporter": "python",
   "pygments_lexer": "ipython3",
   "version": "3.6.6"
  }
 },
 "nbformat": 4,
 "nbformat_minor": 2
}
