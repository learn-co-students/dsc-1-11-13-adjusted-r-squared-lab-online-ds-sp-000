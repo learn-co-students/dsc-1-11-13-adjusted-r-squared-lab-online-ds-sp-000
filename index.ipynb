{
 "cells": [
  {
   "cell_type": "markdown",
   "metadata": {},
   "source": [
    "## Model Fit in Linear Regression - Lab"
   ]
  },
  {
   "cell_type": "markdown",
   "metadata": {},
   "source": [
    "## Introduction\n",
    "In this lab, you'll learn how to evaluate your model results, and you'll learn methods to select the appropriate features using stepwise selection."
   ]
  },
  {
   "cell_type": "markdown",
   "metadata": {},
   "source": [
    "## Objectives\n",
    "You will be able to:\n",
    "* Analyze the results of regression and R-squared and adjusted-R-squared \n",
    "* Understand and apply forward and backward predictor selection"
   ]
  },
  {
   "cell_type": "markdown",
   "metadata": {},
   "source": [
    "## The Boston Housing Data once more"
   ]
  },
  {
   "cell_type": "markdown",
   "metadata": {},
   "source": [
    "We pre-processed the Boston Housing Data the same way we did before:\n",
    "\n",
    "- We dropped \"ZN\" and \"NOX\" completely\n",
    "- We categorized \"RAD\" in 3 bins and \"TAX\" in 4 bins\n",
    "- We used min-max-scaling on \"B\", \"CRIM\" and \"DIS\" (and logtransformed all of them first, except \"B\")\n",
    "- We used standardization on \"AGE\", \"INDUS\", \"LSTAT\" and \"PTRATIO\" (and logtransformed all of them first, except for \"AGE\") "
   ]
  },
  {
   "cell_type": "code",
   "execution_count": 1,
   "metadata": {},
   "outputs": [],
   "source": [
    "import pandas as pd\n",
    "import numpy as np\n",
    "from sklearn.datasets import load_boston\n",
    "boston = load_boston()\n",
    "\n",
    "boston_features = pd.DataFrame(boston.data, columns = boston.feature_names)\n",
    "boston_features = boston_features.drop([\"NOX\",\"ZN\"],axis=1)\n",
    "\n",
    "# first, create bins for based on the values observed. 3 values will result in 2 bins\n",
    "bins = [0,6,  24]\n",
    "bins_rad = pd.cut(boston_features['RAD'], bins)\n",
    "bins_rad = bins_rad.cat.as_unordered()\n",
    "\n",
    "# first, create bins for based on the values observed. 4 values will result in 3 bins\n",
    "bins = [0, 270, 360, 712]\n",
    "bins_tax = pd.cut(boston_features['TAX'], bins)\n",
    "bins_tax = bins_tax.cat.as_unordered()\n",
    "\n",
    "tax_dummy = pd.get_dummies(bins_tax, prefix=\"TAX\")\n",
    "rad_dummy = pd.get_dummies(bins_rad, prefix=\"RAD\")\n",
    "boston_features = boston_features.drop([\"RAD\",\"TAX\"], axis=1)\n",
    "boston_features = pd.concat([boston_features, rad_dummy, tax_dummy], axis=1)\n",
    "\n",
    "age = boston_features[\"AGE\"]\n",
    "b = boston_features[\"B\"]\n",
    "logcrim = np.log(boston_features[\"CRIM\"])\n",
    "logdis = np.log(boston_features[\"DIS\"])\n",
    "logindus = np.log(boston_features[\"INDUS\"])\n",
    "loglstat = np.log(boston_features[\"LSTAT\"])\n",
    "logptratio = np.log(boston_features[\"PTRATIO\"])\n",
    "\n",
    "# minmax scaling\n",
    "boston_features[\"B\"] = (b-min(b))/(max(b)-min(b))\n",
    "boston_features[\"CRIM\"] = (logcrim-min(logcrim))/(max(logcrim)-min(logcrim))\n",
    "boston_features[\"DIS\"] = (logdis-min(logdis))/(max(logdis)-min(logdis))\n",
    "\n",
    "#standardization\n",
    "boston_features[\"AGE\"] = (age-np.mean(age))/np.sqrt(np.var(age))\n",
    "boston_features[\"INDUS\"] = (logindus-np.mean(logindus))/np.sqrt(np.var(logindus))\n",
    "boston_features[\"LSTAT\"] = (loglstat-np.mean(loglstat))/np.sqrt(np.var(loglstat))\n",
    "boston_features[\"PTRATIO\"] = (logptratio-np.mean(logptratio))/(np.sqrt(np.var(logptratio)))"
   ]
  },
  {
   "cell_type": "markdown",
   "metadata": {},
   "source": [
    "## Perform stepwise selection"
   ]
  },
  {
   "cell_type": "markdown",
   "metadata": {},
   "source": [
    "The code for stepwise selection is copied below."
   ]
  },
  {
   "cell_type": "code",
   "execution_count": 3,
   "metadata": {},
   "outputs": [],
   "source": [
    "import statsmodels.api as sm\n",
    "from statsmodels.formula.api import ols\n",
    "\n",
    "def stepwise_selection(X, y, \n",
    "                       initial_list=[], \n",
    "                       threshold_in=0.01, \n",
    "                       threshold_out = 0.05, \n",
    "                       verbose=True):\n",
    "    \"\"\" Perform a forward-backward feature selection \n",
    "    based on p-value from statsmodels.api.OLS\n",
    "    Arguments:\n",
    "        X - pandas.DataFrame with candidate features\n",
    "        y - list-like with the target\n",
    "        initial_list - list of features to start with (column names of X)\n",
    "        threshold_in - include a feature if its p-value < threshold_in\n",
    "        threshold_out - exclude a feature if its p-value > threshold_out\n",
    "        verbose - whether to print the sequence of inclusions and exclusions\n",
    "    Returns: list of selected features \n",
    "    Always set threshold_in < threshold_out to avoid infinite looping.\n",
    "    See https://en.wikipedia.org/wiki/Stepwise_regression for the details\n",
    "    \"\"\"\n",
    "    included = list(initial_list)\n",
    "    while True:\n",
    "        changed=False\n",
    "        # forward step\n",
    "        excluded = list(set(X.columns)-set(included))\n",
    "        new_pval = pd.Series(index=excluded)\n",
    "        for new_column in excluded:\n",
    "            model = sm.OLS(y, sm.add_constant(pd.DataFrame(X[included+[new_column]]))).fit()\n",
    "            new_pval[new_column] = model.pvalues[new_column]\n",
    "        best_pval = new_pval.min()\n",
    "        if best_pval < threshold_in:\n",
    "            best_feature = new_pval.idxmin()\n",
    "            included.append(best_feature)\n",
    "            changed=True\n",
    "            if verbose:\n",
    "                print('Add  {:30} with p-value {:.6}'.format(best_feature, best_pval))\n",
    "\n",
    "        # backward step\n",
    "        model = sm.OLS(y, sm.add_constant(pd.DataFrame(X[included]))).fit()\n",
    "        # use all coefs except intercept\n",
    "        pvalues = model.pvalues.iloc[1:]\n",
    "        worst_pval = pvalues.max() # null if pvalues is empty\n",
    "        if worst_pval > threshold_out:\n",
    "            changed=True\n",
    "            worst_feature = pvalues.argmax()\n",
    "            included.remove(worst_feature)\n",
    "            if verbose:\n",
    "                print('Drop {:30} with p-value {:.6}'.format(worst_feature, worst_pval))\n",
    "        if not changed:\n",
    "            break\n",
    "    return included"
   ]
  },
  {
   "cell_type": "code",
   "execution_count": 25,
   "metadata": {},
   "outputs": [
    {
     "name": "stdout",
     "output_type": "stream",
     "text": [
      "Add  const                          with p-value 9.37062e-216\n",
      "Add  LSTAT                          with p-value 9.27989e-122\n",
      "Add  RM                             with p-value 1.98621e-16\n",
      "Add  PTRATIO                        with p-value 2.5977e-12\n",
      "Add  DIS                            with p-value 2.85496e-09\n",
      "Add  B                              with p-value 2.77572e-06\n",
      "Add  TAX_(0, 270]                   with p-value 0.000855799\n",
      "Add  CHAS                           with p-value 0.00151282\n",
      "Add  INDUS                          with p-value 0.00588575\n"
     ]
    }
   ],
   "source": [
    "boston_features = boston_features.drop(['RAD_(6, 24]', 'TAX_(360, 712]'], axis = 1)\n",
    "predictors = sm.add_constant(boston_features)\n",
    "result = stepwise_selection(predictors, boston.target)"
   ]
  },
  {
   "cell_type": "markdown",
   "metadata": {},
   "source": [
    "### Build the final model again in Statsmodels"
   ]
  },
  {
   "cell_type": "code",
   "execution_count": 26,
   "metadata": {},
   "outputs": [
    {
     "data": {
      "text/html": [
       "<table class=\"simpletable\">\n",
       "<caption>OLS Regression Results</caption>\n",
       "<tr>\n",
       "  <th>Dep. Variable:</th>            <td>y</td>        <th>  R-squared:         </th> <td>   0.779</td> \n",
       "</tr>\n",
       "<tr>\n",
       "  <th>Model:</th>                   <td>OLS</td>       <th>  Adj. R-squared:    </th> <td>   0.774</td> \n",
       "</tr>\n",
       "<tr>\n",
       "  <th>Method:</th>             <td>Least Squares</td>  <th>  F-statistic:       </th> <td>   144.9</td> \n",
       "</tr>\n",
       "<tr>\n",
       "  <th>Date:</th>             <td>Wed, 07 Nov 2018</td> <th>  Prob (F-statistic):</th> <td>5.15e-153</td>\n",
       "</tr>\n",
       "<tr>\n",
       "  <th>Time:</th>                 <td>21:40:15</td>     <th>  Log-Likelihood:    </th> <td> -1458.2</td> \n",
       "</tr>\n",
       "<tr>\n",
       "  <th>No. Observations:</th>      <td>   506</td>      <th>  AIC:               </th> <td>   2942.</td> \n",
       "</tr>\n",
       "<tr>\n",
       "  <th>Df Residuals:</th>          <td>   493</td>      <th>  BIC:               </th> <td>   2997.</td> \n",
       "</tr>\n",
       "<tr>\n",
       "  <th>Df Model:</th>              <td>    12</td>      <th>                     </th>     <td> </td>    \n",
       "</tr>\n",
       "<tr>\n",
       "  <th>Covariance Type:</th>      <td>nonrobust</td>    <th>                     </th>     <td> </td>    \n",
       "</tr>\n",
       "</table>\n",
       "<table class=\"simpletable\">\n",
       "<tr>\n",
       "         <td></td>           <th>coef</th>     <th>std err</th>      <th>t</th>      <th>P>|t|</th>  <th>[0.025</th>    <th>0.975]</th>  \n",
       "</tr>\n",
       "<tr>\n",
       "  <th>const</th>          <td>    7.7911</td> <td>    3.406</td> <td>    2.288</td> <td> 0.023</td> <td>    1.100</td> <td>   14.482</td>\n",
       "</tr>\n",
       "<tr>\n",
       "  <th>CRIM</th>           <td>   -1.9000</td> <td>    2.091</td> <td>   -0.909</td> <td> 0.364</td> <td>   -6.009</td> <td>    2.209</td>\n",
       "</tr>\n",
       "<tr>\n",
       "  <th>INDUS</th>          <td>   -0.8069</td> <td>    0.362</td> <td>   -2.228</td> <td> 0.026</td> <td>   -1.518</td> <td>   -0.095</td>\n",
       "</tr>\n",
       "<tr>\n",
       "  <th>CHAS</th>           <td>    2.5968</td> <td>    0.796</td> <td>    3.262</td> <td> 0.001</td> <td>    1.033</td> <td>    4.161</td>\n",
       "</tr>\n",
       "<tr>\n",
       "  <th>RM</th>             <td>    2.6445</td> <td>    0.408</td> <td>    6.480</td> <td> 0.000</td> <td>    1.843</td> <td>    3.446</td>\n",
       "</tr>\n",
       "<tr>\n",
       "  <th>AGE</th>            <td>    0.0787</td> <td>    0.352</td> <td>    0.224</td> <td> 0.823</td> <td>   -0.612</td> <td>    0.770</td>\n",
       "</tr>\n",
       "<tr>\n",
       "  <th>DIS</th>            <td>  -10.0839</td> <td>    1.855</td> <td>   -5.437</td> <td> 0.000</td> <td>  -13.728</td> <td>   -6.440</td>\n",
       "</tr>\n",
       "<tr>\n",
       "  <th>PTRATIO</th>        <td>   -1.4864</td> <td>    0.241</td> <td>   -6.159</td> <td> 0.000</td> <td>   -1.961</td> <td>   -1.012</td>\n",
       "</tr>\n",
       "<tr>\n",
       "  <th>B</th>              <td>    3.8623</td> <td>    0.981</td> <td>    3.935</td> <td> 0.000</td> <td>    1.934</td> <td>    5.791</td>\n",
       "</tr>\n",
       "<tr>\n",
       "  <th>LSTAT</th>          <td>   -5.6315</td> <td>    0.354</td> <td>  -15.929</td> <td> 0.000</td> <td>   -6.326</td> <td>   -4.937</td>\n",
       "</tr>\n",
       "<tr>\n",
       "  <th>RAD_(0, 6]</th>     <td>   -1.3271</td> <td>    0.669</td> <td>   -1.983</td> <td> 0.048</td> <td>   -2.642</td> <td>   -0.012</td>\n",
       "</tr>\n",
       "<tr>\n",
       "  <th>TAX_(0, 270]</th>   <td>    2.1487</td> <td>    0.704</td> <td>    3.051</td> <td> 0.002</td> <td>    0.765</td> <td>    3.532</td>\n",
       "</tr>\n",
       "<tr>\n",
       "  <th>TAX_(270, 360]</th> <td>    0.8874</td> <td>    0.607</td> <td>    1.461</td> <td> 0.145</td> <td>   -0.306</td> <td>    2.081</td>\n",
       "</tr>\n",
       "</table>\n",
       "<table class=\"simpletable\">\n",
       "<tr>\n",
       "  <th>Omnibus:</th>       <td>106.736</td> <th>  Durbin-Watson:     </th> <td>   1.093</td>\n",
       "</tr>\n",
       "<tr>\n",
       "  <th>Prob(Omnibus):</th> <td> 0.000</td>  <th>  Jarque-Bera (JB):  </th> <td> 431.931</td>\n",
       "</tr>\n",
       "<tr>\n",
       "  <th>Skew:</th>          <td> 0.891</td>  <th>  Prob(JB):          </th> <td>1.61e-94</td>\n",
       "</tr>\n",
       "<tr>\n",
       "  <th>Kurtosis:</th>      <td> 7.161</td>  <th>  Cond. No.          </th> <td>    126.</td>\n",
       "</tr>\n",
       "</table><br/><br/>Warnings:<br/>[1] Standard Errors assume that the covariance matrix of the errors is correctly specified."
      ],
      "text/plain": [
       "<class 'statsmodels.iolib.summary.Summary'>\n",
       "\"\"\"\n",
       "                            OLS Regression Results                            \n",
       "==============================================================================\n",
       "Dep. Variable:                      y   R-squared:                       0.779\n",
       "Model:                            OLS   Adj. R-squared:                  0.774\n",
       "Method:                 Least Squares   F-statistic:                     144.9\n",
       "Date:                Wed, 07 Nov 2018   Prob (F-statistic):          5.15e-153\n",
       "Time:                        21:40:15   Log-Likelihood:                -1458.2\n",
       "No. Observations:                 506   AIC:                             2942.\n",
       "Df Residuals:                     493   BIC:                             2997.\n",
       "Df Model:                          12                                         \n",
       "Covariance Type:            nonrobust                                         \n",
       "==================================================================================\n",
       "                     coef    std err          t      P>|t|      [0.025      0.975]\n",
       "----------------------------------------------------------------------------------\n",
       "const              7.7911      3.406      2.288      0.023       1.100      14.482\n",
       "CRIM              -1.9000      2.091     -0.909      0.364      -6.009       2.209\n",
       "INDUS             -0.8069      0.362     -2.228      0.026      -1.518      -0.095\n",
       "CHAS               2.5968      0.796      3.262      0.001       1.033       4.161\n",
       "RM                 2.6445      0.408      6.480      0.000       1.843       3.446\n",
       "AGE                0.0787      0.352      0.224      0.823      -0.612       0.770\n",
       "DIS              -10.0839      1.855     -5.437      0.000     -13.728      -6.440\n",
       "PTRATIO           -1.4864      0.241     -6.159      0.000      -1.961      -1.012\n",
       "B                  3.8623      0.981      3.935      0.000       1.934       5.791\n",
       "LSTAT             -5.6315      0.354    -15.929      0.000      -6.326      -4.937\n",
       "RAD_(0, 6]        -1.3271      0.669     -1.983      0.048      -2.642      -0.012\n",
       "TAX_(0, 270]       2.1487      0.704      3.051      0.002       0.765       3.532\n",
       "TAX_(270, 360]     0.8874      0.607      1.461      0.145      -0.306       2.081\n",
       "==============================================================================\n",
       "Omnibus:                      106.736   Durbin-Watson:                   1.093\n",
       "Prob(Omnibus):                  0.000   Jarque-Bera (JB):              431.931\n",
       "Skew:                           0.891   Prob(JB):                     1.61e-94\n",
       "Kurtosis:                       7.161   Cond. No.                         126.\n",
       "==============================================================================\n",
       "\n",
       "Warnings:\n",
       "[1] Standard Errors assume that the covariance matrix of the errors is correctly specified.\n",
       "\"\"\""
      ]
     },
     "execution_count": 26,
     "metadata": {},
     "output_type": "execute_result"
    }
   ],
   "source": [
    "model = sm.OLS(boston.target, predictors).fit()\n",
    "model.summary()"
   ]
  },
  {
   "cell_type": "markdown",
   "metadata": {},
   "source": [
    "Where our stepwise procedure mentions that \"CHAS\" was added with a p-value of 0.00151282, but our statsmodels output returns a p-value of 0.000. What is the intuition behind this?"
   ]
  },
  {
   "cell_type": "markdown",
   "metadata": {},
   "source": [
    "## Use Feature ranking with recursive feature elimination"
   ]
  },
  {
   "cell_type": "markdown",
   "metadata": {},
   "source": [
    "Use feature ranking to select the 5 most important features"
   ]
  },
  {
   "cell_type": "code",
   "execution_count": 27,
   "metadata": {},
   "outputs": [],
   "source": [
    "from sklearn.feature_selection import RFE\n",
    "from sklearn.linear_model import LinearRegression\n",
    "\n",
    "lin = LinearRegression()\n",
    "selector = RFE(lin, n_features_to_select = 5)\n",
    "selector = selector.fit(predictors, boston.target)"
   ]
  },
  {
   "cell_type": "code",
   "execution_count": 28,
   "metadata": {},
   "outputs": [
    {
     "data": {
      "text/plain": [
       "array([False, False, False,  True,  True, False,  True, False,  True,\n",
       "        True, False, False, False])"
      ]
     },
     "execution_count": 28,
     "metadata": {},
     "output_type": "execute_result"
    }
   ],
   "source": [
    "selector.support_"
   ]
  },
  {
   "cell_type": "code",
   "execution_count": 22,
   "metadata": {},
   "outputs": [
    {
     "name": "stdout",
     "output_type": "stream",
     "text": [
      "-0.49739821537892226\n"
     ]
    },
    {
     "data": {
      "text/plain": [
       "array([ 2.93498961,  3.43718997, -6.58036332,  4.65357304, -6.25217488])"
      ]
     },
     "execution_count": 22,
     "metadata": {},
     "output_type": "execute_result"
    }
   ],
   "source": [
    "estimator = selector.estimator_\n",
    "print(estimator.intercept_)\n",
    "estimator.coef_\n"
   ]
  },
  {
   "cell_type": "markdown",
   "metadata": {},
   "source": [
    "Fit the linear regression model again using the 5 columns selected"
   ]
  },
  {
   "cell_type": "code",
   "execution_count": 31,
   "metadata": {},
   "outputs": [
    {
     "data": {
      "text/html": [
       "<table class=\"simpletable\">\n",
       "<caption>OLS Regression Results</caption>\n",
       "<tr>\n",
       "  <th>Dep. Variable:</th>            <td>y</td>        <th>  R-squared:         </th> <td>   0.963</td>\n",
       "</tr>\n",
       "<tr>\n",
       "  <th>Model:</th>                   <td>OLS</td>       <th>  Adj. R-squared:    </th> <td>   0.963</td>\n",
       "</tr>\n",
       "<tr>\n",
       "  <th>Method:</th>             <td>Least Squares</td>  <th>  F-statistic:       </th> <td>   2626.</td>\n",
       "</tr>\n",
       "<tr>\n",
       "  <th>Date:</th>             <td>Wed, 07 Nov 2018</td> <th>  Prob (F-statistic):</th>  <td>  0.00</td> \n",
       "</tr>\n",
       "<tr>\n",
       "  <th>Time:</th>                 <td>21:42:56</td>     <th>  Log-Likelihood:    </th> <td> -1497.3</td>\n",
       "</tr>\n",
       "<tr>\n",
       "  <th>No. Observations:</th>      <td>   506</td>      <th>  AIC:               </th> <td>   3005.</td>\n",
       "</tr>\n",
       "<tr>\n",
       "  <th>Df Residuals:</th>          <td>   501</td>      <th>  BIC:               </th> <td>   3026.</td>\n",
       "</tr>\n",
       "<tr>\n",
       "  <th>Df Model:</th>              <td>     5</td>      <th>                     </th>     <td> </td>   \n",
       "</tr>\n",
       "<tr>\n",
       "  <th>Covariance Type:</th>      <td>nonrobust</td>    <th>                     </th>     <td> </td>   \n",
       "</tr>\n",
       "</table>\n",
       "<table class=\"simpletable\">\n",
       "<tr>\n",
       "       <td></td>         <th>coef</th>     <th>std err</th>      <th>t</th>      <th>P>|t|</th>  <th>[0.025</th>    <th>0.975]</th>  \n",
       "</tr>\n",
       "<tr>\n",
       "  <th>RM</th>         <td>    3.5841</td> <td>    0.060</td> <td>   59.689</td> <td> 0.000</td> <td>    3.466</td> <td>    3.702</td>\n",
       "</tr>\n",
       "<tr>\n",
       "  <th>AGE</th>        <td>    1.0408</td> <td>    0.270</td> <td>    3.853</td> <td> 0.000</td> <td>    0.510</td> <td>    1.572</td>\n",
       "</tr>\n",
       "<tr>\n",
       "  <th>PTRATIO</th>    <td>   -1.6423</td> <td>    0.240</td> <td>   -6.829</td> <td> 0.000</td> <td>   -2.115</td> <td>   -1.170</td>\n",
       "</tr>\n",
       "<tr>\n",
       "  <th>LSTAT</th>      <td>   -5.7949</td> <td>    0.280</td> <td>  -20.706</td> <td> 0.000</td> <td>   -6.345</td> <td>   -5.245</td>\n",
       "</tr>\n",
       "<tr>\n",
       "  <th>RAD_(0, 6]</th> <td>   -0.0409</td> <td>    0.487</td> <td>   -0.084</td> <td> 0.933</td> <td>   -0.997</td> <td>    0.915</td>\n",
       "</tr>\n",
       "</table>\n",
       "<table class=\"simpletable\">\n",
       "<tr>\n",
       "  <th>Omnibus:</th>       <td>154.963</td> <th>  Durbin-Watson:     </th> <td>   0.996</td> \n",
       "</tr>\n",
       "<tr>\n",
       "  <th>Prob(Omnibus):</th> <td> 0.000</td>  <th>  Jarque-Bera (JB):  </th> <td> 714.635</td> \n",
       "</tr>\n",
       "<tr>\n",
       "  <th>Skew:</th>          <td> 1.285</td>  <th>  Prob(JB):          </th> <td>6.59e-156</td>\n",
       "</tr>\n",
       "<tr>\n",
       "  <th>Kurtosis:</th>      <td> 8.224</td>  <th>  Cond. No.          </th> <td>    15.4</td> \n",
       "</tr>\n",
       "</table><br/><br/>Warnings:<br/>[1] Standard Errors assume that the covariance matrix of the errors is correctly specified."
      ],
      "text/plain": [
       "<class 'statsmodels.iolib.summary.Summary'>\n",
       "\"\"\"\n",
       "                            OLS Regression Results                            \n",
       "==============================================================================\n",
       "Dep. Variable:                      y   R-squared:                       0.963\n",
       "Model:                            OLS   Adj. R-squared:                  0.963\n",
       "Method:                 Least Squares   F-statistic:                     2626.\n",
       "Date:                Wed, 07 Nov 2018   Prob (F-statistic):               0.00\n",
       "Time:                        21:42:56   Log-Likelihood:                -1497.3\n",
       "No. Observations:                 506   AIC:                             3005.\n",
       "Df Residuals:                     501   BIC:                             3026.\n",
       "Df Model:                           5                                         \n",
       "Covariance Type:            nonrobust                                         \n",
       "==============================================================================\n",
       "                 coef    std err          t      P>|t|      [0.025      0.975]\n",
       "------------------------------------------------------------------------------\n",
       "RM             3.5841      0.060     59.689      0.000       3.466       3.702\n",
       "AGE            1.0408      0.270      3.853      0.000       0.510       1.572\n",
       "PTRATIO       -1.6423      0.240     -6.829      0.000      -2.115      -1.170\n",
       "LSTAT         -5.7949      0.280    -20.706      0.000      -6.345      -5.245\n",
       "RAD_(0, 6]    -0.0409      0.487     -0.084      0.933      -0.997       0.915\n",
       "==============================================================================\n",
       "Omnibus:                      154.963   Durbin-Watson:                   0.996\n",
       "Prob(Omnibus):                  0.000   Jarque-Bera (JB):              714.635\n",
       "Skew:                           1.285   Prob(JB):                    6.59e-156\n",
       "Kurtosis:                       8.224   Cond. No.                         15.4\n",
       "==============================================================================\n",
       "\n",
       "Warnings:\n",
       "[1] Standard Errors assume that the covariance matrix of the errors is correctly specified.\n",
       "\"\"\""
      ]
     },
     "execution_count": 31,
     "metadata": {},
     "output_type": "execute_result"
    }
   ],
   "source": [
    "chosen_five = []\n",
    "count = 0\n",
    "for column in boston_features:\n",
    "    if selector.support_[count]:\n",
    "        chosen_five.append(column)\n",
    "    count +=1\n",
    "model2 = sm.OLS(boston.target, boston_features[chosen_five]).fit()\n",
    "model2.summary()"
   ]
  },
  {
   "cell_type": "markdown",
   "metadata": {},
   "source": [
    "Now, predict $\\hat y$ using your model. you can use `.predict()` in scikit-learn"
   ]
  },
  {
   "cell_type": "code",
   "execution_count": 32,
   "metadata": {},
   "outputs": [
    {
     "data": {
      "text/plain": [
       "array([33.16145372, 25.26137344, 35.24598912, 36.40412127, 31.50582197,\n",
       "       29.32237147, 22.45194191, 19.94511188, 13.83961847, 20.05846867,\n",
       "       19.97920019, 22.41320156, 18.72890857, 21.73662778, 21.01050706,\n",
       "       20.88593665, 22.67868631, 17.07535848, 15.68425178, 18.21786246,\n",
       "       12.70495656, 17.83254622, 15.63686682, 14.18449778, 16.2806512 ,\n",
       "       14.68134201, 16.66757274, 15.96172926, 20.67171904, 21.68962126,\n",
       "       12.36980609, 19.18356722, 10.80362468, 14.37111171, 14.86324884,\n",
       "       21.56500669, 19.39629596, 21.23236771, 19.83822162, 30.6411545 ,\n",
       "       39.48788551, 29.76274434, 25.98227068, 23.74190414, 22.06264931,\n",
       "       19.80101846, 17.00489533, 17.06844683, 10.40094355, 16.10155275,\n",
       "       19.4232993 , 24.03614449, 29.50340103, 23.15928942, 15.29996787,\n",
       "       32.24277199, 28.3420256 , 35.52119706, 23.90787299, 20.93852334,\n",
       "       17.54766467, 18.45741983, 26.63585164, 23.50183149, 27.63817273,\n",
       "       30.33483191, 21.44494243, 21.56340401, 16.48198317, 21.22864565,\n",
       "       24.54310058, 19.59148983, 25.22482844, 22.8003877 , 24.26650072,\n",
       "       23.0867831 , 21.33599044, 21.25426098, 20.10383455, 21.12798907,\n",
       "       29.09746351, 27.07351013, 25.21631897, 24.19616721, 23.00092238,\n",
       "       27.90458469, 18.75095333, 23.62933805, 32.53864961, 31.59325155,\n",
       "       25.12828203, 26.06662289, 25.2024262 , 26.0965119 , 22.87152758,\n",
       "       28.13465641, 21.76329476, 38.39684503, 37.64909112, 31.8356298 ,\n",
       "       23.98928438, 25.84849127, 21.87218493, 18.72139859, 19.7572766 ,\n",
       "       16.07794666, 14.64138234, 18.14820192, 21.16747223, 17.78406603,\n",
       "       18.02924135, 25.39372337, 18.42768318, 18.65143983, 23.56598601,\n",
       "       18.57926917, 21.4861572 , 22.81123619, 18.0615839 , 18.43781502,\n",
       "       17.64961508, 18.7302584 , 16.69780624, 13.10738058, 16.70154107,\n",
       "       18.46633186, 11.50620153, 14.88499432, 18.70147768, 14.01104517,\n",
       "       20.73283994, 20.47939001, 21.59380436, 16.62139922, 15.13605035,\n",
       "       17.39746365, 15.84916084, 19.28442361, 13.47566105, 15.90876585,\n",
       "       13.23439219,  5.91766766, 14.52207807, 14.90010455, 11.79813833,\n",
       "       16.78129734, 19.93066019, 11.72407325, 12.98951067, 17.18544378,\n",
       "       23.20603284, 21.31094809, 20.34418202, 20.67741238, 22.50877763,\n",
       "       22.15932369, 18.73295801, 36.98629703, 30.68512531, 30.93317387,\n",
       "       32.57884524, 48.11837585, 48.50816588, 45.11612618, 23.892752  ,\n",
       "       26.4736176 , 42.55660605, 23.10284213, 26.17708005, 26.25179521,\n",
       "       21.99749514, 23.87136027, 18.91239059, 26.46136347, 23.27468653,\n",
       "       30.13972584, 22.59645554, 29.20462945, 30.27352643, 32.25242303,\n",
       "       32.07340929, 23.32850292, 34.5614685 , 30.98062658, 18.63416613,\n",
       "       20.41547182, 36.32673662, 30.26267358, 32.69416307, 33.69701534,\n",
       "       32.74822001, 33.14162006, 39.28950115, 31.56899165, 32.53165634,\n",
       "       42.38007283, 39.04371854, 31.2816584 , 34.48032714, 32.211133  ,\n",
       "       32.96850108, 27.35391293, 40.11078667, 39.66971331, 42.97173139,\n",
       "       19.01455735, 21.60298216, 15.59184558, 18.10911929, 12.65696258,\n",
       "       17.37603353, 12.0849881 , 16.12940961, 22.54256115,  7.18095037,\n",
       "       22.13245235, 19.81011425, 26.79774569, 18.7079571 , 25.32880912,\n",
       "       27.27247133, 16.89989009, 26.39841862, 28.15913919, 39.83725762,\n",
       "       40.57648199, 42.03043832, 31.79864785, 36.01680917, 32.51753763,\n",
       "       21.28247087, 34.43159399, 44.89245601, 39.93029289, 27.46166673,\n",
       "       22.07463327, 25.85192498, 35.04877332, 27.66085775, 27.56322075,\n",
       "       24.86020231, 21.55680661, 23.01322865, 28.91192793, 18.29515993,\n",
       "       14.3413454 , 21.6024141 , 22.67421813, 22.92068487, 26.36759439,\n",
       "       26.39674372, 30.86520106, 32.81034392, 37.50879117, 26.66967459,\n",
       "       22.05818376, 39.20284351, 43.47310983, 34.99269734, 34.40403784,\n",
       "       31.84640658, 35.95080442, 41.16143232, 31.21973438, 33.8499133 ,\n",
       "       24.4254256 , 27.09047809, 37.67020675, 42.43939261, 18.37092307,\n",
       "       17.89451907, 24.87444382, 25.97152034, 31.40356483, 34.09945475,\n",
       "       36.4449847 , 31.31876829, 32.56175874, 26.21324187, 33.39378806,\n",
       "       40.6594188 , 34.66985821, 41.6321181 , 42.43983519, 28.96371028,\n",
       "       26.64226718, 19.18111792, 26.04296309, 26.34942086, 24.24104903,\n",
       "       33.70061219, 34.07711998, 29.37965209, 23.98294801, 22.58753353,\n",
       "       29.45571341, 28.14332379, 18.32216878, 31.12491762, 33.70306763,\n",
       "       32.09047409, 25.4321539 , 25.15996654, 32.46722767, 29.05971671,\n",
       "       25.01905132, 31.52216649, 27.95180267, 32.47980694, 22.29496131,\n",
       "       14.98406839, 26.8824662 , 21.42368595, 25.82098713, 25.51216936,\n",
       "       19.99682371, 16.44911585, 16.8990402 , 23.04243301, 19.77871534,\n",
       "       25.32917031, 25.67689475, 23.2123294 , 18.8502433 , 26.40707637,\n",
       "       27.32230395, 25.57618342, 18.23482783, 21.15834733, 25.46295669,\n",
       "       23.27646884, 18.54505368, 23.982476  , 26.30134156, 24.62854371,\n",
       "       21.84986498, 19.73744439, 19.60185395, 21.44781996, 20.17917798,\n",
       "       21.05972282, 33.84776784, 26.99588196, 27.89304687, 31.760772  ,\n",
       "       20.59099822, 18.52991272, 27.13376313, 28.89233208, 28.38065846,\n",
       "       26.99140195, 28.79199782, 22.2791808 , 32.2235419 , 18.8707322 ,\n",
       "       23.31550952, 17.24666905, 20.39175605, 20.54870252, 19.46509418,\n",
       "       25.43351885, 19.2322572 , 19.43126678, 17.24746359, 37.51825699,\n",
       "       16.12980255, 14.75713015, 11.60628657, 29.16874477, 33.88979165,\n",
       "       37.34127042, 23.27916987, 22.3540164 ,  6.08942811,  2.48691428,\n",
       "       23.81448007, 15.97776765, 17.56972646, 14.93583395, 15.32524285,\n",
       "       19.96902845, 16.76137538, 12.08821323, 11.64596187,  5.05928333,\n",
       "        8.51607015,  7.17345823,  6.84215718,  7.22320645, 12.72020804,\n",
       "       15.71595595, 15.5020018 ,  9.36973098, 18.43521586, 16.69307488,\n",
       "       18.49370622, 16.96153598, 14.44022563,  9.28637584, 10.09246759,\n",
       "       12.48798487, 16.42515605, 16.64853989, 12.97937654, 10.09576079,\n",
       "       12.87207822,  7.18454027, 18.77125442, 11.21848857, 18.50948678,\n",
       "       21.06372638, 17.13220784,  5.20473825, 12.28190455,  4.10750335,\n",
       "       13.30105256, 15.35689306,  9.68359762, 14.90020242, 16.1931636 ,\n",
       "       19.58636471, 17.53340537, 17.00291006, 13.6965961 , 14.18024739,\n",
       "       12.89039634, 15.61624894, 18.37577164, 14.52311133, 14.75600041,\n",
       "       17.2939726 , 18.27444983, 20.84672662, 18.48615008, 18.57780405,\n",
       "       15.94174588, 17.74365474, 13.19545562,  9.54017231, 12.48769988,\n",
       "       13.44721988, 16.93506568, 17.93849237, 17.65900465, 13.02472248,\n",
       "       15.04971043, 17.56835631, 18.01502673, 16.91160298, 17.11961929,\n",
       "       19.08185445, 18.79300592, 17.52677913, 22.03346381, 18.38354802,\n",
       "       17.67867404, 15.30525689, 15.9935279 , 17.84089684, 18.03411923,\n",
       "       19.39536431, 19.27237219, 19.30604884, 23.22915965, 18.81406986,\n",
       "       15.92200062, 16.09478716, 14.53924112, 14.95811049, 15.65063496,\n",
       "       17.33610508, 20.08114791, 19.18806617, 22.87100719, 14.0673729 ,\n",
       "       14.03326515, 17.50600564, 10.63526199, 16.89097412, 19.802859  ,\n",
       "       20.91199368, 26.27244973, 28.42114434, 18.58054181, 16.64564659,\n",
       "       20.83403764, 17.79999971, 18.66055529, 14.13139404, 11.46237071,\n",
       "        8.23810998, 16.24782201, 18.604002  , 18.14740851, 17.31729701,\n",
       "       13.3929733 , 12.25243343, 17.52485996, 18.97882461, 16.16430991,\n",
       "       18.54056505, 22.79357139, 21.98728375, 30.1814229 , 28.12594493,\n",
       "       23.18479442])"
      ]
     },
     "execution_count": 32,
     "metadata": {},
     "output_type": "execute_result"
    }
   ],
   "source": [
    "model2.predict()"
   ]
  },
  {
   "cell_type": "markdown",
   "metadata": {},
   "source": [
    "Now, using the formulas of R-squared and adjusted-R-squared below, and your Python/numpy knowledge, compute them and contrast them with the R-squared and adjusted-R-squared in your statsmodels output using stepwise selection. Which of the two models would you prefer?"
   ]
  },
  {
   "cell_type": "markdown",
   "metadata": {},
   "source": [
    "$SS_{residual} = \\sum (y - \\hat{y})^2 $\n",
    "\n",
    "$SS_{total} = \\sum (y - \\bar{y})^2 $\n",
    "\n",
    "$R^2 = 1- \\dfrac{SS_{residual}}{SS_{total}}$\n",
    "\n",
    "$R^2_{adj}= 1-(1-R^2)\\dfrac{n-1}{n-p-1}$"
   ]
  },
  {
   "cell_type": "code",
   "execution_count": 51,
   "metadata": {},
   "outputs": [],
   "source": [
    "#variables defined\n",
    "\n",
    "y = boston.target\n",
    "n = len(boston.target)\n",
    "k = len(chosen_five)  #or p, I suppose.\n",
    "y_hat = model2.predict()\n",
    "y_bar = boston.target.mean()\n",
    "SSR = sum([(y[i]-y_hat[i])**2 for i in range(n)])\n",
    "SST = sum([(y[i]-y_bar)**2 for i in range(n)])\n",
    "R_square = 1 - (SSR/SST)\n",
    "R_adj = 1 - (1-R_square)*((n-1)/(n-k-1))"
   ]
  },
  {
   "cell_type": "code",
   "execution_count": 53,
   "metadata": {},
   "outputs": [
    {
     "data": {
      "text/plain": [
       "0.7421479779359903"
      ]
     },
     "execution_count": 53,
     "metadata": {},
     "output_type": "execute_result"
    }
   ],
   "source": [
    "R_square"
   ]
  },
  {
   "cell_type": "code",
   "execution_count": 54,
   "metadata": {},
   "outputs": [
    {
     "data": {
      "text/plain": [
       "0.7395694577153502"
      ]
     },
     "execution_count": 54,
     "metadata": {},
     "output_type": "execute_result"
    }
   ],
   "source": [
    "R_adj"
   ]
  },
  {
   "cell_type": "code",
   "execution_count": 52,
   "metadata": {},
   "outputs": [
    {
     "name": "stdout",
     "output_type": "stream",
     "text": [
      "11014.483147846442 42716.2954150198\n"
     ]
    }
   ],
   "source": [
    "print(SSR, SST)"
   ]
  },
  {
   "cell_type": "markdown",
   "metadata": {},
   "source": [
    "## Level up - Optional"
   ]
  },
  {
   "cell_type": "markdown",
   "metadata": {},
   "source": [
    "- Perform variable selection using forward selection, using this resource: https://planspace.org/20150423-forward_selection_with_statsmodels/. Note that this time features are added based on the adjusted-R-squared!\n",
    "- Tweak the code in the `stepwise_selection()`-function written above to just perform forward selection based on the p-value."
   ]
  },
  {
   "cell_type": "markdown",
   "metadata": {},
   "source": [
    "## Summary\n",
    "Great! You now performed your own feature selection methods!"
   ]
  }
 ],
 "metadata": {
  "kernelspec": {
   "display_name": "Python 3",
   "language": "python",
   "name": "python3"
  },
  "language_info": {
   "codemirror_mode": {
    "name": "ipython",
    "version": 3
   },
   "file_extension": ".py",
   "mimetype": "text/x-python",
   "name": "python",
   "nbconvert_exporter": "python",
   "pygments_lexer": "ipython3",
   "version": "3.6.5"
  }
 },
 "nbformat": 4,
 "nbformat_minor": 2
}
